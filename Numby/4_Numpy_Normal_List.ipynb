{
 "cells": [
  {
   "cell_type": "code",
   "execution_count": 1,
   "metadata": {},
   "outputs": [],
   "source": [
    "import numpy as np"
   ]
  },
  {
   "cell_type": "markdown",
   "metadata": {},
   "source": [
    "## Normal Distribution'dan Çekilmiş Değerler İle Array Oluşturmak\n",
    "- ilk değer: mean\n",
    "- ikinci değer: std\n",
    "- Üçüncü değer: array size"
   ]
  },
  {
   "cell_type": "code",
   "execution_count": 3,
   "metadata": {},
   "outputs": [
    {
     "data": {
      "text/plain": [
       "array([[-0.70118832, -1.62157015,  1.60850059,  0.18377362, -1.33855815],\n",
       "       [ 1.53663843,  0.11536994, -0.91784804,  0.59408028, -2.31197869],\n",
       "       [ 1.37950289, -0.68075125, -3.36627075, -0.16633626, -0.10163059],\n",
       "       [ 1.85077473,  0.79415975, -1.81997173,  0.50591974, -0.00922911]])"
      ]
     },
     "execution_count": 3,
     "metadata": {},
     "output_type": "execute_result"
    }
   ],
   "source": [
    "#ortalaması sıfır, standart sapması 1 olan 4,5 bir array yarartma\n",
    "np.random.normal(0,1,(4,5))"
   ]
  },
  {
   "cell_type": "code",
   "execution_count": null,
   "metadata": {},
   "outputs": [],
   "source": []
  },
  {
   "cell_type": "code",
   "execution_count": null,
   "metadata": {},
   "outputs": [],
   "source": []
  }
 ],
 "metadata": {
  "kernelspec": {
   "display_name": "Python 3",
   "language": "python",
   "name": "python3"
  },
  "language_info": {
   "codemirror_mode": {
    "name": "ipython",
    "version": 3
   },
   "file_extension": ".py",
   "mimetype": "text/x-python",
   "name": "python",
   "nbconvert_exporter": "python",
   "pygments_lexer": "ipython3",
   "version": "3.12.2"
  }
 },
 "nbformat": 4,
 "nbformat_minor": 2
}
